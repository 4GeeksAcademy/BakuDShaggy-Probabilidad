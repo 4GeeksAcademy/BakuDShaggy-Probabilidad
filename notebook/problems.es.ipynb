{
 "cells": [
  {
   "cell_type": "markdown",
   "id": "a41f3622",
   "metadata": {},
   "source": [
    "# Ejercicios de probabilidad"
   ]
  },
  {
   "cell_type": "markdown",
   "id": "a6bdbd89",
   "metadata": {},
   "source": [
    "## Ejercicio 1 \n",
    "\n",
    "Dos dados se lanzan una vez y se observa el total obtenido. Usa una simulación para encontrar la probabilidad estimada de que la puntuación sea mayor a 7 o un número par. Una simulación es una repetición del mismo experimento multiples veces para observar su comportamiento:\n",
    "\n",
    "- Ejecuta el experimento 1000 veces (lanza 2 dados 1000 veces, y suma el número de ambos dados).\n",
    "- Lleva ua cuenta de los números y las veces que la suma fue mayor a 7 o un número par.\n",
    "- Divide el número del paso 2 entre el número de iteraciones(1000)."
   ]
  },
  {
   "cell_type": "code",
   "execution_count": 31,
   "id": "8939d892",
   "metadata": {},
   "outputs": [
    {
     "name": "stdout",
     "output_type": "stream",
     "text": [
      "La probabilidad es: 0.6420\n"
     ]
    }
   ],
   "source": [
    "import numpy as np\n",
    "\n",
    "# Número de simulaciones\n",
    "simulaciones = 1000\n",
    "\n",
    "# Lnzamientos de los dados\n",
    "dado1 = np.random.randint(1, 7, simulaciones)\n",
    "dado2 = np.random.randint(1, 7, simulaciones)\n",
    "\n",
    "total = dado1 + dado2  # Suma de los dos dados\n",
    "\n",
    "# Conteo cuando la suma es mayor a 7 o un número par\n",
    "conteo = np.sum((total > 7) | (total % 2 == 0))\n",
    "\n",
    "# Calculamos la probabilidad estimada\n",
    "probabilidad_estimada = conteo / simulaciones\n",
    "\n",
    "print(f\"La probabilidad es: {probabilidad_estimada:.4f}\")\n",
    "\n",
    "\n"
   ]
  },
  {
   "cell_type": "markdown",
   "id": "55732bca",
   "metadata": {},
   "source": [
    "## Ejercicio 2\n",
    "\n",
    "Una caja contiene 10 bolas blancas, 20 bolas rojas y 30 bolas verdes. Si tomamos 5 bolas de la caja reemplazándolas (tomando una bola, anotando el color y luego regresandola a la caja). Queremos saber la probabilidad de:\n",
    "\n",
    "1. Tomar 3 blancas y 2 rojas.\n",
    "2. Toas todas del mismo color.\n",
    "\n",
    "Ejecuta el experimento 1000 veces y calcula las probabilidades que mencionadas."
   ]
  },
  {
   "cell_type": "code",
   "execution_count": 49,
   "id": "23244d20",
   "metadata": {},
   "outputs": [
    {
     "name": "stdout",
     "output_type": "stream",
     "text": [
      "Probabilidad de tomar 3 blancas y 2 rojas: 0.0040\n",
      "Probabilidad de tomar todas del mismo color: 0.0340\n"
     ]
    }
   ],
   "source": [
    "ball_box = [None] * 60\n",
    "\n",
    "# Crea la cajas con las bolas\n",
    "for i in range(60):\n",
    "    if i < 10:\n",
    "        ball_box[i] = \"Blanca\"\n",
    "    elif (i > 9) and (i < 30):\n",
    "        ball_box[i] = \"Roja\"\n",
    "    else:\n",
    "        ball_box[i] = \"Verde\"\n",
    "\n",
    "simulaciones = 1000\n",
    "\n",
    "#Contadores\n",
    "blanca_roja = 0\n",
    "mismo_color = 0\n",
    "\n",
    "# Simulación de extracción de bolas\n",
    "for _ in range(simulaciones):\n",
    "    seleccion = np.random.choice(ball_box, 5, replace=True)\n",
    "    unicas, cuenta = np.unique(seleccion, return_counts=True)\n",
    "    conteo_colores = dict(zip(unicas, cuenta))\n",
    "    \n",
    "    # Condición para 3 blancas y 2 rojas\n",
    "    if conteo_colores.get('Blanca', 0) == 3 and conteo_colores.get('Roja', 0) == 2:\n",
    "        blanca_roja += 1\n",
    "    \n",
    "    # Condición para todas del mismo color\n",
    "    if len(unicas) == 1:\n",
    "        mismo_color += 1\n",
    "\n",
    "# Cálculo de probabilidades\n",
    "probabilidad_blanca_roja = blanca_roja / simulaciones\n",
    "probabilidad_mismo_color = mismo_color / simulaciones\n",
    "\n",
    "print(f\"Probabilidad de tomar 3 blancas y 2 rojas: {probabilidad_blanca_roja:.4f}\")\n",
    "print(f\"Probabilidad de tomar todas del mismo color: {probabilidad_mismo_color:.4f}\")\n"
   ]
  }
 ],
 "metadata": {
  "kernelspec": {
   "display_name": ".venv",
   "language": "python",
   "name": "python3"
  },
  "language_info": {
   "codemirror_mode": {
    "name": "ipython",
    "version": 3
   },
   "file_extension": ".py",
   "mimetype": "text/x-python",
   "name": "python",
   "nbconvert_exporter": "python",
   "pygments_lexer": "ipython3",
   "version": "3.11.4"
  }
 },
 "nbformat": 4,
 "nbformat_minor": 5
}
